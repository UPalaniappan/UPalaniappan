{
 "cells": [
  {
   "cell_type": "code",
   "execution_count": 439,
   "id": "8fa95b8d",
   "metadata": {},
   "outputs": [],
   "source": [
    "import pandas as pd\n",
    "from matplotlib import pyplot as plt "
   ]
  },
  {
   "cell_type": "code",
   "execution_count": 440,
   "id": "756cb648",
   "metadata": {},
   "outputs": [],
   "source": [
    "# read csv\n",
    "data=pd.read_csv(\"https://raw.githubusercontent.com/kedeisha1/Challenges/main/netflix_titles.csv\")"
   ]
  },
  {
   "cell_type": "code",
   "execution_count": 441,
   "id": "b9c113b2",
   "metadata": {},
   "outputs": [
    {
     "data": {
      "text/plain": [
       "(8807, 12)"
      ]
     },
     "execution_count": 441,
     "metadata": {},
     "output_type": "execute_result"
    }
   ],
   "source": [
    "# size of the dataset\n",
    "data.shape"
   ]
  },
  {
   "cell_type": "code",
   "execution_count": 442,
   "id": "f897cfdb",
   "metadata": {},
   "outputs": [
    {
     "data": {
      "text/html": [
       "<div>\n",
       "<style scoped>\n",
       "    .dataframe tbody tr th:only-of-type {\n",
       "        vertical-align: middle;\n",
       "    }\n",
       "\n",
       "    .dataframe tbody tr th {\n",
       "        vertical-align: top;\n",
       "    }\n",
       "\n",
       "    .dataframe thead th {\n",
       "        text-align: right;\n",
       "    }\n",
       "</style>\n",
       "<table border=\"1\" class=\"dataframe\">\n",
       "  <thead>\n",
       "    <tr style=\"text-align: right;\">\n",
       "      <th></th>\n",
       "      <th>show_id</th>\n",
       "      <th>type</th>\n",
       "      <th>title</th>\n",
       "      <th>director</th>\n",
       "      <th>cast</th>\n",
       "      <th>country</th>\n",
       "      <th>date_added</th>\n",
       "      <th>release_year</th>\n",
       "      <th>rating</th>\n",
       "      <th>duration</th>\n",
       "      <th>listed_in</th>\n",
       "      <th>description</th>\n",
       "    </tr>\n",
       "  </thead>\n",
       "  <tbody>\n",
       "    <tr>\n",
       "      <th>0</th>\n",
       "      <td>s1</td>\n",
       "      <td>Movie</td>\n",
       "      <td>Dick Johnson Is Dead</td>\n",
       "      <td>Kirsten Johnson</td>\n",
       "      <td>NaN</td>\n",
       "      <td>United States</td>\n",
       "      <td>September 25, 2021</td>\n",
       "      <td>2020</td>\n",
       "      <td>PG-13</td>\n",
       "      <td>90 min</td>\n",
       "      <td>Documentaries</td>\n",
       "      <td>As her father nears the end of his life, filmm...</td>\n",
       "    </tr>\n",
       "    <tr>\n",
       "      <th>1</th>\n",
       "      <td>s2</td>\n",
       "      <td>TV Show</td>\n",
       "      <td>Blood &amp; Water</td>\n",
       "      <td>NaN</td>\n",
       "      <td>Ama Qamata, Khosi Ngema, Gail Mabalane, Thaban...</td>\n",
       "      <td>South Africa</td>\n",
       "      <td>September 24, 2021</td>\n",
       "      <td>2021</td>\n",
       "      <td>TV-MA</td>\n",
       "      <td>2 Seasons</td>\n",
       "      <td>International TV Shows, TV Dramas, TV Mysteries</td>\n",
       "      <td>After crossing paths at a party, a Cape Town t...</td>\n",
       "    </tr>\n",
       "    <tr>\n",
       "      <th>2</th>\n",
       "      <td>s3</td>\n",
       "      <td>TV Show</td>\n",
       "      <td>Ganglands</td>\n",
       "      <td>Julien Leclercq</td>\n",
       "      <td>Sami Bouajila, Tracy Gotoas, Samuel Jouy, Nabi...</td>\n",
       "      <td>NaN</td>\n",
       "      <td>September 24, 2021</td>\n",
       "      <td>2021</td>\n",
       "      <td>TV-MA</td>\n",
       "      <td>1 Season</td>\n",
       "      <td>Crime TV Shows, International TV Shows, TV Act...</td>\n",
       "      <td>To protect his family from a powerful drug lor...</td>\n",
       "    </tr>\n",
       "    <tr>\n",
       "      <th>3</th>\n",
       "      <td>s4</td>\n",
       "      <td>TV Show</td>\n",
       "      <td>Jailbirds New Orleans</td>\n",
       "      <td>NaN</td>\n",
       "      <td>NaN</td>\n",
       "      <td>NaN</td>\n",
       "      <td>September 24, 2021</td>\n",
       "      <td>2021</td>\n",
       "      <td>TV-MA</td>\n",
       "      <td>1 Season</td>\n",
       "      <td>Docuseries, Reality TV</td>\n",
       "      <td>Feuds, flirtations and toilet talk go down amo...</td>\n",
       "    </tr>\n",
       "    <tr>\n",
       "      <th>4</th>\n",
       "      <td>s5</td>\n",
       "      <td>TV Show</td>\n",
       "      <td>Kota Factory</td>\n",
       "      <td>NaN</td>\n",
       "      <td>Mayur More, Jitendra Kumar, Ranjan Raj, Alam K...</td>\n",
       "      <td>India</td>\n",
       "      <td>September 24, 2021</td>\n",
       "      <td>2021</td>\n",
       "      <td>TV-MA</td>\n",
       "      <td>2 Seasons</td>\n",
       "      <td>International TV Shows, Romantic TV Shows, TV ...</td>\n",
       "      <td>In a city of coaching centers known to train I...</td>\n",
       "    </tr>\n",
       "  </tbody>\n",
       "</table>\n",
       "</div>"
      ],
      "text/plain": [
       "  show_id     type                  title         director  \\\n",
       "0      s1    Movie   Dick Johnson Is Dead  Kirsten Johnson   \n",
       "1      s2  TV Show          Blood & Water              NaN   \n",
       "2      s3  TV Show              Ganglands  Julien Leclercq   \n",
       "3      s4  TV Show  Jailbirds New Orleans              NaN   \n",
       "4      s5  TV Show           Kota Factory              NaN   \n",
       "\n",
       "                                                cast        country  \\\n",
       "0                                                NaN  United States   \n",
       "1  Ama Qamata, Khosi Ngema, Gail Mabalane, Thaban...   South Africa   \n",
       "2  Sami Bouajila, Tracy Gotoas, Samuel Jouy, Nabi...            NaN   \n",
       "3                                                NaN            NaN   \n",
       "4  Mayur More, Jitendra Kumar, Ranjan Raj, Alam K...          India   \n",
       "\n",
       "           date_added  release_year rating   duration  \\\n",
       "0  September 25, 2021          2020  PG-13     90 min   \n",
       "1  September 24, 2021          2021  TV-MA  2 Seasons   \n",
       "2  September 24, 2021          2021  TV-MA   1 Season   \n",
       "3  September 24, 2021          2021  TV-MA   1 Season   \n",
       "4  September 24, 2021          2021  TV-MA  2 Seasons   \n",
       "\n",
       "                                           listed_in  \\\n",
       "0                                      Documentaries   \n",
       "1    International TV Shows, TV Dramas, TV Mysteries   \n",
       "2  Crime TV Shows, International TV Shows, TV Act...   \n",
       "3                             Docuseries, Reality TV   \n",
       "4  International TV Shows, Romantic TV Shows, TV ...   \n",
       "\n",
       "                                         description  \n",
       "0  As her father nears the end of his life, filmm...  \n",
       "1  After crossing paths at a party, a Cape Town t...  \n",
       "2  To protect his family from a powerful drug lor...  \n",
       "3  Feuds, flirtations and toilet talk go down amo...  \n",
       "4  In a city of coaching centers known to train I...  "
      ]
     },
     "execution_count": 442,
     "metadata": {},
     "output_type": "execute_result"
    }
   ],
   "source": [
    "data.head()"
   ]
  },
  {
   "cell_type": "markdown",
   "id": "2b1a5ef9",
   "metadata": {},
   "source": [
    "## 1.Is there any missing data? Deal with them accordingly."
   ]
  },
  {
   "cell_type": "code",
   "execution_count": 443,
   "id": "b37b9e8f",
   "metadata": {},
   "outputs": [
    {
     "name": "stdout",
     "output_type": "stream",
     "text": [
      "show_id            0\n",
      "type               0\n",
      "title              0\n",
      "director        2634\n",
      "cast             825\n",
      "country          831\n",
      "date_added        10\n",
      "release_year       0\n",
      "rating             4\n",
      "duration           3\n",
      "listed_in          0\n",
      "description        0\n",
      "dtype: int64\n"
     ]
    }
   ],
   "source": [
    "#find how many missing fields in every column\n",
    "missing = data.isnull().sum()\n",
    "print(missing)"
   ]
  },
  {
   "cell_type": "markdown",
   "id": "a3a23b24",
   "metadata": {},
   "source": [
    "## 2.Using the ‘date_added’ column a new column called ‘year_added’ that only has the year the title was added."
   ]
  },
  {
   "cell_type": "markdown",
   "id": "5e272ec0",
   "metadata": {},
   "source": [
    "## 3.Using the ‘date_added’ column a new column called ‘month_added’ that only has the month the title was added.\n"
   ]
  },
  {
   "cell_type": "code",
   "execution_count": 444,
   "id": "381fa0d9",
   "metadata": {},
   "outputs": [],
   "source": [
    "# change the 'date_added' to datetime data type to get year and month later\n",
    "\n",
    "data['date_added']=pd.to_datetime(data['date_added'])\n",
    "\n",
    "#add two columns using dt.year, dt.month\n",
    "data['year_added']=data['date_added'].dt.year\n",
    "data['month_added']=data['date_added'].dt.month"
   ]
  },
  {
   "cell_type": "markdown",
   "id": "c35aef85",
   "metadata": {},
   "source": [
    "## 4.Check the data types. Anything look odd? Adjust accordingly."
   ]
  },
  {
   "cell_type": "code",
   "execution_count": 445,
   "id": "95e79a2a",
   "metadata": {},
   "outputs": [
    {
     "name": "stdout",
     "output_type": "stream",
     "text": [
      "<class 'pandas.core.frame.DataFrame'>\n",
      "RangeIndex: 8807 entries, 0 to 8806\n",
      "Data columns (total 14 columns):\n",
      " #   Column        Non-Null Count  Dtype         \n",
      "---  ------        --------------  -----         \n",
      " 0   show_id       8807 non-null   object        \n",
      " 1   type          8807 non-null   object        \n",
      " 2   title         8807 non-null   object        \n",
      " 3   director      6173 non-null   object        \n",
      " 4   cast          7982 non-null   object        \n",
      " 5   country       7976 non-null   object        \n",
      " 6   date_added    8797 non-null   datetime64[ns]\n",
      " 7   release_year  8807 non-null   int64         \n",
      " 8   rating        8803 non-null   object        \n",
      " 9   duration      8804 non-null   object        \n",
      " 10  listed_in     8807 non-null   object        \n",
      " 11  description   8807 non-null   object        \n",
      " 12  year_added    8797 non-null   float64       \n",
      " 13  month_added   8797 non-null   float64       \n",
      "dtypes: datetime64[ns](1), float64(2), int64(1), object(10)\n",
      "memory usage: 963.4+ KB\n"
     ]
    }
   ],
   "source": [
    "# checking the data types. notice the 'year_added' and 'month_added' are float instead of int\n",
    "data.info()"
   ]
  },
  {
   "cell_type": "code",
   "execution_count": 446,
   "id": "cba52b2f",
   "metadata": {},
   "outputs": [
    {
     "name": "stdout",
     "output_type": "stream",
     "text": [
      "<class 'pandas.core.frame.DataFrame'>\n",
      "Int64Index: 8797 entries, 0 to 8806\n",
      "Data columns (total 14 columns):\n",
      " #   Column        Non-Null Count  Dtype         \n",
      "---  ------        --------------  -----         \n",
      " 0   show_id       8797 non-null   object        \n",
      " 1   type          8797 non-null   object        \n",
      " 2   title         8797 non-null   object        \n",
      " 3   director      6173 non-null   object        \n",
      " 4   cast          7972 non-null   object        \n",
      " 5   country       7967 non-null   object        \n",
      " 6   date_added    8797 non-null   datetime64[ns]\n",
      " 7   release_year  8797 non-null   int64         \n",
      " 8   rating        8793 non-null   object        \n",
      " 9   duration      8794 non-null   object        \n",
      " 10  listed_in     8797 non-null   object        \n",
      " 11  description   8797 non-null   object        \n",
      " 12  year_added    8797 non-null   float64       \n",
      " 13  month_added   8797 non-null   float64       \n",
      "dtypes: datetime64[ns](1), float64(2), int64(1), object(10)\n",
      "memory usage: 1.0+ MB\n"
     ]
    }
   ],
   "source": [
    "# create a new data set by dropping null values in the date columns to make it easier for changing the datatype\n",
    "data_cleaned = data.dropna(subset=['date_added','month_added','year_added'])\n",
    "data_cleaned.info()\n"
   ]
  },
  {
   "cell_type": "code",
   "execution_count": 447,
   "id": "64757750",
   "metadata": {},
   "outputs": [
    {
     "name": "stdout",
     "output_type": "stream",
     "text": [
      "<class 'pandas.core.frame.DataFrame'>\n",
      "Int64Index: 8797 entries, 0 to 8806\n",
      "Data columns (total 14 columns):\n",
      " #   Column        Non-Null Count  Dtype         \n",
      "---  ------        --------------  -----         \n",
      " 0   show_id       8797 non-null   object        \n",
      " 1   type          8797 non-null   object        \n",
      " 2   title         8797 non-null   object        \n",
      " 3   director      6173 non-null   object        \n",
      " 4   cast          7972 non-null   object        \n",
      " 5   country       7967 non-null   object        \n",
      " 6   date_added    8797 non-null   datetime64[ns]\n",
      " 7   release_year  8797 non-null   int64         \n",
      " 8   rating        8793 non-null   object        \n",
      " 9   duration      8794 non-null   object        \n",
      " 10  listed_in     8797 non-null   object        \n",
      " 11  description   8797 non-null   object        \n",
      " 12  year_added    8797 non-null   int64         \n",
      " 13  month_added   8797 non-null   int64         \n",
      "dtypes: datetime64[ns](1), int64(3), object(10)\n",
      "memory usage: 1.0+ MB\n"
     ]
    }
   ],
   "source": [
    "#Use.copy() to avoid SettingWithCopyWarning\n",
    "data_cleaned = data_cleaned.copy()\n",
    "\n",
    "#change the data types\n",
    "data_cleaned['year_added'] = data_cleaned['year_added'].astype(int)\n",
    "data_cleaned['month_added'] = data_cleaned['month_added'].astype(int) \n",
    "data_cleaned['title'] = data_cleaned['title'].astype(str)\n",
    "\n",
    "\n",
    "data_cleaned.info()"
   ]
  },
  {
   "cell_type": "markdown",
   "id": "aa5e107c",
   "metadata": {},
   "source": [
    "## 5.What is the most popular release year for movies on Netflix?"
   ]
  },
  {
   "cell_type": "code",
   "execution_count": 448,
   "id": "3ff142db",
   "metadata": {},
   "outputs": [
    {
     "name": "stdout",
     "output_type": "stream",
     "text": [
      "release_year\n",
      "2018    1146\n",
      "dtype: int64\n"
     ]
    }
   ],
   "source": [
    "popular_year_released = data_cleaned.groupby(data_cleaned['release_year']).size()\n",
    "popular_year_released = popular_year_released.sort_values(ascending = False).head(1)\n",
    "print(popular_year_released)"
   ]
  },
  {
   "cell_type": "markdown",
   "id": "4082e54b",
   "metadata": {},
   "source": [
    "## 6. What year did Netflix add the most content to its platform?"
   ]
  },
  {
   "cell_type": "code",
   "execution_count": 459,
   "id": "e08ac523",
   "metadata": {},
   "outputs": [
    {
     "name": "stdout",
     "output_type": "stream",
     "text": [
      "year_added\n",
      "2019    2016\n",
      "dtype: int64\n"
     ]
    }
   ],
   "source": [
    "#group by year. Use size() to know the count\n",
    "popular_year_added = data_cleaned.groupby(data_cleaned['year_added']).size()\n",
    "\n",
    "# sort the values in descending\n",
    "popular_year_added = popular_year_added.sort_values(ascending=False).head(1)\n",
    "print(popular_year_added)"
   ]
  },
  {
   "cell_type": "markdown",
   "id": "a2134145",
   "metadata": {},
   "source": [
    "## 7.What is the movie with the longest title in the dataset?"
   ]
  },
  {
   "cell_type": "code",
   "execution_count": 451,
   "id": "7239c255",
   "metadata": {},
   "outputs": [
    {
     "name": "stdout",
     "output_type": "stream",
     "text": [
      "5164    Jim & Andy: The Great Beyond - Featuring a Ver...\n",
      "Name: title, dtype: object\n"
     ]
    }
   ],
   "source": [
    "#condition=get the movie title which matches max length of movie title and type is movie\n",
    "longest_title=data_cleaned[(data_cleaned['title'].str.len() == max(data_cleaned['title'].str.len()))\n",
    "                           &(data_cleaned['type']=='Movie')]\n",
    "\n",
    "print(longest_title['title'])"
   ]
  },
  {
   "cell_type": "markdown",
   "id": "d2cb1a58",
   "metadata": {},
   "source": [
    "## 8.What are the top 5 most popular movie genres?"
   ]
  },
  {
   "cell_type": "code",
   "execution_count": 456,
   "id": "724f672b",
   "metadata": {},
   "outputs": [
    {
     "name": "stdout",
     "output_type": "stream",
     "text": [
      "listed_in\n",
      "Dramas, International Movies                        362\n",
      "Documentaries                                       359\n",
      "Stand-Up Comedy                                     334\n",
      "Comedies, Dramas, International Movies              274\n",
      "Dramas, Independent Movies, International Movies    252\n",
      "Name: title, dtype: int64\n"
     ]
    }
   ],
   "source": [
    "#filter only the movies\n",
    "popular_movies=data_cleaned[data_cleaned['type']=='Movie']\n",
    "#group by genre and find the count\n",
    "popular_movies=data_cleaned.groupby(data_cleaned['listed_in']).count()\n",
    "#sort the numbers descending using by\n",
    "popular_movies=popular_movies.sort_values(by='show_id',ascending=False).head()\n",
    "print(popular_movies['title'])"
   ]
  },
  {
   "cell_type": "code",
   "execution_count": 467,
   "id": "16250212",
   "metadata": {},
   "outputs": [
    {
     "data": {
      "image/png": "[encoded data removed]",
      "text/plain": [
       "<Figure size 640x480 with 1 Axes>"
      ]
     },
     "metadata": {},
     "output_type": "display_data"
    }
   ],
   "source": [
    "#assign the index of types to genre and values to values to make it easier to plot\n",
    "genre=popular_movies.index\n",
    "values=popular_movies['show_id']\n",
    "plt.bar(genre, values)\n",
    "\n",
    "\n",
    "plt.xticks(rotation=90) \n",
    "plt.tight_layout()"
   ]
  },
  {
   "cell_type": "markdown",
   "id": "3951396d",
   "metadata": {},
   "source": [
    "## 9.Create a pie chart visualizing the proportion of movies vs TV shows. Label each section with the percentage."
   ]
  },
  {
   "cell_type": "code",
   "execution_count": 468,
   "id": "5fd24a76",
   "metadata": {},
   "outputs": [
    {
     "name": "stdout",
     "output_type": "stream",
     "text": [
      "type\n",
      "Movie      6131\n",
      "TV Show    2666\n",
      "dtype: int64\n"
     ]
    }
   ],
   "source": [
    "#group by type\n",
    "types=data_cleaned.groupby(data_cleaned['type']).size()\n",
    "print(types)"
   ]
  },
  {
   "cell_type": "code",
   "execution_count": 469,
   "id": "753cb0e9",
   "metadata": {},
   "outputs": [
    {
     "data": {
      "text/plain": [
       "<matplotlib.legend.Legend at 0x17f4c8cd0>"
      ]
     },
     "execution_count": 469,
     "metadata": {},
     "output_type": "execute_result"
    },
    {
     "data": {
      "image/png": "[encoded data removed]",
      "text/plain": [
       "<Figure size 640x480 with 1 Axes>"
      ]
     },
     "metadata": {},
     "output_type": "display_data"
    }
   ],
   "source": [
    "# use pie chart to plot. add lanels using labels\n",
    "plt.pie(types,labels=types.values)\n",
    "\n",
    "#create legend\n",
    "plt.legend(types.index, bbox_to_anchor=(1.5,0.5))"
   ]
  },
  {
   "cell_type": "code",
   "execution_count": null,
   "id": "7451b405",
   "metadata": {},
   "outputs": [],
   "source": []
  }
 ],
 "metadata": {
  "kernelspec": {
   "display_name": "Python 3 (ipykernel)",
   "language": "python",
   "name": "python3"
  },
  "language_info": {
   "codemirror_mode": {
    "name": "ipython",
    "version": 3
   },
   "file_extension": ".py",
   "mimetype": "text/x-python",
   "name": "python",
   "nbconvert_exporter": "python",
   "pygments_lexer": "ipython3",
   "version": "3.11.4"
  }
 },
 "nbformat": 4,
 "nbformat_minor": 5
}
